{
  "cells": [
    {
      "cell_type": "markdown",
      "id": "db97f5be-3a90-429d-b152-4dbb645576b0",
      "metadata": {
        "id": "db97f5be-3a90-429d-b152-4dbb645576b0"
      },
      "source": [
        "## NBA Shot Chart -- Game\n",
        "\n",
        "Written by: Tim Chartier <br>\n",
        "Adapted from: https://towardsdatascience.com/make-a-simple-nba-shot-chart-with-python-e5d70db45d0d\n"
      ]
    },
    {
      "cell_type": "code",
      "source": [
        "!pip install nba_api\n",
        "\n",
        "from nba_api.stats.endpoints import shotchartdetail"
      ],
      "metadata": {
        "colab": {
          "base_uri": "https://localhost:8080/"
        },
        "id": "RqihdjCF4FK8",
        "outputId": "1eea2d7b-8750-4d3c-ccc3-1f5521f27052"
      },
      "id": "RqihdjCF4FK8",
      "execution_count": null,
      "outputs": [
        {
          "output_type": "stream",
          "name": "stdout",
          "text": [
            "Looking in indexes: https://pypi.org/simple, https://us-python.pkg.dev/colab-wheels/public/simple/\n",
            "Collecting nba_api\n",
            "  Downloading nba_api-1.1.11.tar.gz (125 kB)\n",
            "\u001b[K     |████████████████████████████████| 125 kB 6.6 MB/s \n",
            "\u001b[?25hRequirement already satisfied: requests in /usr/local/lib/python3.7/dist-packages (from nba_api) (2.23.0)\n",
            "Requirement already satisfied: urllib3!=1.25.0,!=1.25.1,<1.26,>=1.21.1 in /usr/local/lib/python3.7/dist-packages (from requests->nba_api) (1.24.3)\n",
            "Requirement already satisfied: certifi>=2017.4.17 in /usr/local/lib/python3.7/dist-packages (from requests->nba_api) (2022.6.15)\n",
            "Requirement already satisfied: idna<3,>=2.5 in /usr/local/lib/python3.7/dist-packages (from requests->nba_api) (2.10)\n",
            "Requirement already satisfied: chardet<4,>=3.0.2 in /usr/local/lib/python3.7/dist-packages (from requests->nba_api) (3.0.4)\n",
            "Building wheels for collected packages: nba-api\n",
            "  Building wheel for nba-api (setup.py) ... \u001b[?25l\u001b[?25hdone\n",
            "  Created wheel for nba-api: filename=nba_api-1.1.11-py3-none-any.whl size=251504 sha256=27ab550cf87b3249f8c80d1b24d32803de3f932b27df9c518643c31c23a79558\n",
            "  Stored in directory: /root/.cache/pip/wheels/e3/f4/46/996128675381abc175e306642bae575d372dcf7efc4683e551\n",
            "Successfully built nba-api\n",
            "Installing collected packages: nba-api\n",
            "Successfully installed nba-api-1.1.11\n"
          ]
        }
      ]
    },
    {
      "cell_type": "code",
      "execution_count": null,
      "id": "faacab9a-fb68-4a7b-b15c-dd85c91da1ff",
      "metadata": {
        "id": "faacab9a-fb68-4a7b-b15c-dd85c91da1ff"
      },
      "outputs": [],
      "source": [
        "# Import packages\n",
        "\n",
        "import json\n",
        "import requests\n",
        "import pandas as pd\n",
        "import matplotlib as mpl\n",
        "import matplotlib.pyplot as plt"
      ]
    },
    {
      "cell_type": "markdown",
      "id": "c14031fb-1b5c-4d27-8b7b-f1a36df8e7d5",
      "metadata": {
        "id": "c14031fb-1b5c-4d27-8b7b-f1a36df8e7d5"
      },
      "source": [
        "### Grab player ID number and team ID numbers"
      ]
    },
    {
      "cell_type": "code",
      "execution_count": null,
      "id": "62b95cbf-2426-4128-8dfb-dbc52cdd45a2",
      "metadata": {
        "id": "62b95cbf-2426-4128-8dfb-dbc52cdd45a2"
      },
      "outputs": [],
      "source": [
        "# Load teams file\n",
        "teams = json.loads(requests.get('https://raw.githubusercontent.com/bttmly/nba/master/data/teams.json').text)\n",
        "# Load players file\n",
        "players = json.loads(requests.get('https://lifeislinear.davidson.edu/sports/player_dicts.json').text)"
      ]
    },
    {
      "cell_type": "markdown",
      "id": "1d0f6899-2958-49f8-832b-7f2dd575bb6f",
      "metadata": {
        "id": "1d0f6899-2958-49f8-832b-7f2dd575bb6f"
      },
      "source": [
        "### ID helper functions\n",
        "\n",
        "Create helper functions that take an input of a team name and a player’s name, and return their respective ID numbers. In both cases, if a player or team name cannot be found, the functions return -1\n"
      ]
    },
    {
      "cell_type": "code",
      "execution_count": null,
      "id": "aa7ef776-5fb5-41d8-b518-ade011a5c935",
      "metadata": {
        "id": "aa7ef776-5fb5-41d8-b518-ade011a5c935"
      },
      "outputs": [],
      "source": [
        "# Get team ID based on team name\n",
        "def get_team_id(teamInput):\n",
        "    for team in teams:\n",
        "        if team['teamName'] == teamInput:\n",
        "            return team['teamId']\n",
        "    return -1\n",
        "# Get player ID based on player name\n",
        "def get_player_id(first, last):\n",
        "    for player in players:\n",
        "        if player['firstName'] == first and player['lastName'] == last:\n",
        "            return player['playerId']\n",
        "    return -1\n",
        "# Get Name based on player id\n",
        "def get_player_name(playerId):\n",
        "    for player in players:\n",
        "        if player['playerId']==playerId:\n",
        "            return player['firstName'], player['lastName']\n",
        "    return -1"
      ]
    },
    {
      "cell_type": "markdown",
      "id": "45881a65-e0c5-4822-9b7b-7dab8604b33b",
      "metadata": {
        "id": "45881a65-e0c5-4822-9b7b-7dab8604b33b"
      },
      "source": [
        "### See functions in action"
      ]
    },
    {
      "cell_type": "code",
      "execution_count": null,
      "id": "091a6f1d-99db-419c-a465-4f635828bde4",
      "metadata": {
        "colab": {
          "base_uri": "https://localhost:8080/"
        },
        "id": "091a6f1d-99db-419c-a465-4f635828bde4",
        "outputId": "6d734255-aebe-4ee4-cf74-7c643c1356e8"
      },
      "outputs": [
        {
          "output_type": "stream",
          "name": "stdout",
          "text": [
            "1610612737\n",
            "2544\n"
          ]
        }
      ],
      "source": [
        "# Get the team ID number for the Knicks\n",
        "teamID = get_team_id('Atlanta Hawks')\n",
        "print(teamID)\n",
        "# Get the player ID number for LeBron James\n",
        "playerID = get_player_id('LeBron', 'James')\n",
        "print(playerID)"
      ]
    },
    {
      "cell_type": "markdown",
      "id": "1fa7e39f-77e5-4e73-b8ff-0fd496ef0866",
      "metadata": {
        "id": "1fa7e39f-77e5-4e73-b8ff-0fd496ef0866"
      },
      "source": [
        "### Collect shot data\n",
        "\n",
        "documentation - https://github.com/swar/nba_api/blob/master/docs/nba_api/stats/endpoints/shotchartdetail.md\n",
        "\n",
        "For made shots change to: context_measure_simple = 'PTS',\n",
        "   else FGA\n",
        "\n",
        "To get regular season data, change:             \n",
        "<dd>season_type_all_star = 'Regular Season')\n"
      ]
    },
    {
      "cell_type": "code",
      "execution_count": null,
      "id": "936b35a3-ee81-49c2-a175-e56eed20d117",
      "metadata": {
        "id": "936b35a3-ee81-49c2-a175-e56eed20d117"
      },
      "outputs": [],
      "source": [
        "# Create JSON request\n",
        "shot_json = shotchartdetail.ShotChartDetail(\n",
        "            team_id = get_team_id('Golden State Warriors'),\n",
        "            player_id = get_player_id('Stephen', 'Curry'),\n",
        "            context_measure_simple = 'FGA',\n",
        "            season_nullable = '2012-13',\n",
        "            season_type_all_star = 'Regular Season')\n",
        "\n",
        "# Load JSON data into dictionary\n",
        "shot_data = json.loads(shot_json.get_json())"
      ]
    },
    {
      "cell_type": "markdown",
      "source": [
        "### What's a shot look like?\n",
        "\n",
        "Each element/row represents a shot.  The second element in the list is the ID for hte game in which the shot was taken.\n",
        "\n",
        "First, we will print the headers for the columns.  "
      ],
      "metadata": {
        "id": "Q0EfDACpE050"
      },
      "id": "Q0EfDACpE050"
    },
    {
      "cell_type": "code",
      "source": [
        "# Print column names.\n",
        "print(shot_data['resultSets'][0]['headers'])\n",
        "# Print one shot element\n",
        "print(shot_data['resultSets'][0]['rowSet'][0])"
      ],
      "metadata": {
        "colab": {
          "base_uri": "https://localhost:8080/"
        },
        "id": "876gdniNE_QB",
        "outputId": "f8cd9afa-d1ff-4bf3-de37-b561db90d146"
      },
      "id": "876gdniNE_QB",
      "execution_count": null,
      "outputs": [
        {
          "output_type": "stream",
          "name": "stdout",
          "text": [
            "['GRID_TYPE', 'GAME_ID', 'GAME_EVENT_ID', 'PLAYER_ID', 'PLAYER_NAME', 'TEAM_ID', 'TEAM_NAME', 'PERIOD', 'MINUTES_REMAINING', 'SECONDS_REMAINING', 'EVENT_TYPE', 'ACTION_TYPE', 'SHOT_TYPE', 'SHOT_ZONE_BASIC', 'SHOT_ZONE_AREA', 'SHOT_ZONE_RANGE', 'SHOT_DISTANCE', 'LOC_X', 'LOC_Y', 'SHOT_ATTEMPTED_FLAG', 'SHOT_MADE_FLAG', 'GAME_DATE', 'HTM', 'VTM']\n",
            "['Shot Chart Detail', '0021200010', 33, 201939, 'Stephen Curry', 1610612744, 'Golden State Warriors', 1, 8, 31, 'Missed Shot', 'Jump Shot', '3PT Field Goal', 'Above the Break 3', 'Center(C)', '24+ ft.', 25, -45, 246, 1, 0, '20121031', 'PHX', 'GSW']\n"
          ]
        }
      ]
    },
    {
      "cell_type": "markdown",
      "id": "7aa6edb4-a4ec-45e3-9fe9-3a92df69bc0e",
      "metadata": {
        "id": "7aa6edb4-a4ec-45e3-9fe9-3a92df69bc0e"
      },
      "source": [
        "### Convert dictionary to a dataframe and extra shots from a game on a given date."
      ]
    },
    {
      "cell_type": "code",
      "execution_count": null,
      "id": "b7b2806d-6741-4ba2-93c1-2a1b44c8b856",
      "metadata": {
        "id": "b7b2806d-6741-4ba2-93c1-2a1b44c8b856",
        "colab": {
          "base_uri": "https://localhost:8080/",
          "height": 509
        },
        "outputId": "6a299ef3-2b84-4764-adbc-0b2e927cfcdb"
      },
      "outputs": [
        {
          "output_type": "stream",
          "name": "stdout",
          "text": [
            "There are 28 shots by this player.\n",
            "\n"
          ]
        },
        {
          "output_type": "execute_result",
          "data": {
            "text/plain": [
              "             GRID_TYPE     GAME_ID  GAME_EVENT_ID  PLAYER_ID    PLAYER_NAME  \\\n",
              "904  Shot Chart Detail  0021200853              9     201939  Stephen Curry   \n",
              "905  Shot Chart Detail  0021200853             24     201939  Stephen Curry   \n",
              "906  Shot Chart Detail  0021200853             30     201939  Stephen Curry   \n",
              "907  Shot Chart Detail  0021200853             89     201939  Stephen Curry   \n",
              "908  Shot Chart Detail  0021200853             95     201939  Stephen Curry   \n",
              "\n",
              "        TEAM_ID              TEAM_NAME  PERIOD  MINUTES_REMAINING  \\\n",
              "904  1610612744  Golden State Warriors       1                 11   \n",
              "905  1610612744  Golden State Warriors       1                 10   \n",
              "906  1610612744  Golden State Warriors       1                  9   \n",
              "907  1610612744  Golden State Warriors       1                  3   \n",
              "908  1610612744  Golden State Warriors       1                  2   \n",
              "\n",
              "     SECONDS_REMAINING  ...        SHOT_ZONE_AREA  SHOT_ZONE_RANGE  \\\n",
              "904                  9  ...  Left Side Center(LC)          24+ ft.   \n",
              "905                  7  ...             Center(C)         8-16 ft.   \n",
              "906                  5  ...         Right Side(R)        16-24 ft.   \n",
              "907                 41  ...             Center(C)  Less Than 8 ft.   \n",
              "908                 34  ...         Right Side(R)         8-16 ft.   \n",
              "\n",
              "    SHOT_DISTANCE LOC_X LOC_Y SHOT_ATTEMPTED_FLAG  SHOT_MADE_FLAG  GAME_DATE  \\\n",
              "904            24  -183   164                   1               0   20130227   \n",
              "905            11    -2   115                   1               1   20130227   \n",
              "906            17   174    14                   1               0   20130227   \n",
              "907             3    12    31                   1               1   20130227   \n",
              "908            15   152     1                   1               0   20130227   \n",
              "\n",
              "     HTM  VTM  \n",
              "904  NYK  GSW  \n",
              "905  NYK  GSW  \n",
              "906  NYK  GSW  \n",
              "907  NYK  GSW  \n",
              "908  NYK  GSW  \n",
              "\n",
              "[5 rows x 24 columns]"
            ],
            "text/html": [
              "\n",
              "  <div id=\"df-485e4e83-db1d-442c-96f1-12d7aac909ce\">\n",
              "    <div class=\"colab-df-container\">\n",
              "      <div>\n",
              "<style scoped>\n",
              "    .dataframe tbody tr th:only-of-type {\n",
              "        vertical-align: middle;\n",
              "    }\n",
              "\n",
              "    .dataframe tbody tr th {\n",
              "        vertical-align: top;\n",
              "    }\n",
              "\n",
              "    .dataframe thead th {\n",
              "        text-align: right;\n",
              "    }\n",
              "</style>\n",
              "<table border=\"1\" class=\"dataframe\">\n",
              "  <thead>\n",
              "    <tr style=\"text-align: right;\">\n",
              "      <th></th>\n",
              "      <th>GRID_TYPE</th>\n",
              "      <th>GAME_ID</th>\n",
              "      <th>GAME_EVENT_ID</th>\n",
              "      <th>PLAYER_ID</th>\n",
              "      <th>PLAYER_NAME</th>\n",
              "      <th>TEAM_ID</th>\n",
              "      <th>TEAM_NAME</th>\n",
              "      <th>PERIOD</th>\n",
              "      <th>MINUTES_REMAINING</th>\n",
              "      <th>SECONDS_REMAINING</th>\n",
              "      <th>...</th>\n",
              "      <th>SHOT_ZONE_AREA</th>\n",
              "      <th>SHOT_ZONE_RANGE</th>\n",
              "      <th>SHOT_DISTANCE</th>\n",
              "      <th>LOC_X</th>\n",
              "      <th>LOC_Y</th>\n",
              "      <th>SHOT_ATTEMPTED_FLAG</th>\n",
              "      <th>SHOT_MADE_FLAG</th>\n",
              "      <th>GAME_DATE</th>\n",
              "      <th>HTM</th>\n",
              "      <th>VTM</th>\n",
              "    </tr>\n",
              "  </thead>\n",
              "  <tbody>\n",
              "    <tr>\n",
              "      <th>904</th>\n",
              "      <td>Shot Chart Detail</td>\n",
              "      <td>0021200853</td>\n",
              "      <td>9</td>\n",
              "      <td>201939</td>\n",
              "      <td>Stephen Curry</td>\n",
              "      <td>1610612744</td>\n",
              "      <td>Golden State Warriors</td>\n",
              "      <td>1</td>\n",
              "      <td>11</td>\n",
              "      <td>9</td>\n",
              "      <td>...</td>\n",
              "      <td>Left Side Center(LC)</td>\n",
              "      <td>24+ ft.</td>\n",
              "      <td>24</td>\n",
              "      <td>-183</td>\n",
              "      <td>164</td>\n",
              "      <td>1</td>\n",
              "      <td>0</td>\n",
              "      <td>20130227</td>\n",
              "      <td>NYK</td>\n",
              "      <td>GSW</td>\n",
              "    </tr>\n",
              "    <tr>\n",
              "      <th>905</th>\n",
              "      <td>Shot Chart Detail</td>\n",
              "      <td>0021200853</td>\n",
              "      <td>24</td>\n",
              "      <td>201939</td>\n",
              "      <td>Stephen Curry</td>\n",
              "      <td>1610612744</td>\n",
              "      <td>Golden State Warriors</td>\n",
              "      <td>1</td>\n",
              "      <td>10</td>\n",
              "      <td>7</td>\n",
              "      <td>...</td>\n",
              "      <td>Center(C)</td>\n",
              "      <td>8-16 ft.</td>\n",
              "      <td>11</td>\n",
              "      <td>-2</td>\n",
              "      <td>115</td>\n",
              "      <td>1</td>\n",
              "      <td>1</td>\n",
              "      <td>20130227</td>\n",
              "      <td>NYK</td>\n",
              "      <td>GSW</td>\n",
              "    </tr>\n",
              "    <tr>\n",
              "      <th>906</th>\n",
              "      <td>Shot Chart Detail</td>\n",
              "      <td>0021200853</td>\n",
              "      <td>30</td>\n",
              "      <td>201939</td>\n",
              "      <td>Stephen Curry</td>\n",
              "      <td>1610612744</td>\n",
              "      <td>Golden State Warriors</td>\n",
              "      <td>1</td>\n",
              "      <td>9</td>\n",
              "      <td>5</td>\n",
              "      <td>...</td>\n",
              "      <td>Right Side(R)</td>\n",
              "      <td>16-24 ft.</td>\n",
              "      <td>17</td>\n",
              "      <td>174</td>\n",
              "      <td>14</td>\n",
              "      <td>1</td>\n",
              "      <td>0</td>\n",
              "      <td>20130227</td>\n",
              "      <td>NYK</td>\n",
              "      <td>GSW</td>\n",
              "    </tr>\n",
              "    <tr>\n",
              "      <th>907</th>\n",
              "      <td>Shot Chart Detail</td>\n",
              "      <td>0021200853</td>\n",
              "      <td>89</td>\n",
              "      <td>201939</td>\n",
              "      <td>Stephen Curry</td>\n",
              "      <td>1610612744</td>\n",
              "      <td>Golden State Warriors</td>\n",
              "      <td>1</td>\n",
              "      <td>3</td>\n",
              "      <td>41</td>\n",
              "      <td>...</td>\n",
              "      <td>Center(C)</td>\n",
              "      <td>Less Than 8 ft.</td>\n",
              "      <td>3</td>\n",
              "      <td>12</td>\n",
              "      <td>31</td>\n",
              "      <td>1</td>\n",
              "      <td>1</td>\n",
              "      <td>20130227</td>\n",
              "      <td>NYK</td>\n",
              "      <td>GSW</td>\n",
              "    </tr>\n",
              "    <tr>\n",
              "      <th>908</th>\n",
              "      <td>Shot Chart Detail</td>\n",
              "      <td>0021200853</td>\n",
              "      <td>95</td>\n",
              "      <td>201939</td>\n",
              "      <td>Stephen Curry</td>\n",
              "      <td>1610612744</td>\n",
              "      <td>Golden State Warriors</td>\n",
              "      <td>1</td>\n",
              "      <td>2</td>\n",
              "      <td>34</td>\n",
              "      <td>...</td>\n",
              "      <td>Right Side(R)</td>\n",
              "      <td>8-16 ft.</td>\n",
              "      <td>15</td>\n",
              "      <td>152</td>\n",
              "      <td>1</td>\n",
              "      <td>1</td>\n",
              "      <td>0</td>\n",
              "      <td>20130227</td>\n",
              "      <td>NYK</td>\n",
              "      <td>GSW</td>\n",
              "    </tr>\n",
              "  </tbody>\n",
              "</table>\n",
              "<p>5 rows × 24 columns</p>\n",
              "</div>\n",
              "      <button class=\"colab-df-convert\" onclick=\"convertToInteractive('df-485e4e83-db1d-442c-96f1-12d7aac909ce')\"\n",
              "              title=\"Convert this dataframe to an interactive table.\"\n",
              "              style=\"display:none;\">\n",
              "        \n",
              "  <svg xmlns=\"http://www.w3.org/2000/svg\" height=\"24px\"viewBox=\"0 0 24 24\"\n",
              "       width=\"24px\">\n",
              "    <path d=\"M0 0h24v24H0V0z\" fill=\"none\"/>\n",
              "    <path d=\"M18.56 5.44l.94 2.06.94-2.06 2.06-.94-2.06-.94-.94-2.06-.94 2.06-2.06.94zm-11 1L8.5 8.5l.94-2.06 2.06-.94-2.06-.94L8.5 2.5l-.94 2.06-2.06.94zm10 10l.94 2.06.94-2.06 2.06-.94-2.06-.94-.94-2.06-.94 2.06-2.06.94z\"/><path d=\"M17.41 7.96l-1.37-1.37c-.4-.4-.92-.59-1.43-.59-.52 0-1.04.2-1.43.59L10.3 9.45l-7.72 7.72c-.78.78-.78 2.05 0 2.83L4 21.41c.39.39.9.59 1.41.59.51 0 1.02-.2 1.41-.59l7.78-7.78 2.81-2.81c.8-.78.8-2.07 0-2.86zM5.41 20L4 18.59l7.72-7.72 1.47 1.35L5.41 20z\"/>\n",
              "  </svg>\n",
              "      </button>\n",
              "      \n",
              "  <style>\n",
              "    .colab-df-container {\n",
              "      display:flex;\n",
              "      flex-wrap:wrap;\n",
              "      gap: 12px;\n",
              "    }\n",
              "\n",
              "    .colab-df-convert {\n",
              "      background-color: #E8F0FE;\n",
              "      border: none;\n",
              "      border-radius: 50%;\n",
              "      cursor: pointer;\n",
              "      display: none;\n",
              "      fill: #1967D2;\n",
              "      height: 32px;\n",
              "      padding: 0 0 0 0;\n",
              "      width: 32px;\n",
              "    }\n",
              "\n",
              "    .colab-df-convert:hover {\n",
              "      background-color: #E2EBFA;\n",
              "      box-shadow: 0px 1px 2px rgba(60, 64, 67, 0.3), 0px 1px 3px 1px rgba(60, 64, 67, 0.15);\n",
              "      fill: #174EA6;\n",
              "    }\n",
              "\n",
              "    [theme=dark] .colab-df-convert {\n",
              "      background-color: #3B4455;\n",
              "      fill: #D2E3FC;\n",
              "    }\n",
              "\n",
              "    [theme=dark] .colab-df-convert:hover {\n",
              "      background-color: #434B5C;\n",
              "      box-shadow: 0px 1px 3px 1px rgba(0, 0, 0, 0.15);\n",
              "      filter: drop-shadow(0px 1px 2px rgba(0, 0, 0, 0.3));\n",
              "      fill: #FFFFFF;\n",
              "    }\n",
              "  </style>\n",
              "\n",
              "      <script>\n",
              "        const buttonEl =\n",
              "          document.querySelector('#df-485e4e83-db1d-442c-96f1-12d7aac909ce button.colab-df-convert');\n",
              "        buttonEl.style.display =\n",
              "          google.colab.kernel.accessAllowed ? 'block' : 'none';\n",
              "\n",
              "        async function convertToInteractive(key) {\n",
              "          const element = document.querySelector('#df-485e4e83-db1d-442c-96f1-12d7aac909ce');\n",
              "          const dataTable =\n",
              "            await google.colab.kernel.invokeFunction('convertToInteractive',\n",
              "                                                     [key], {});\n",
              "          if (!dataTable) return;\n",
              "\n",
              "          const docLinkHtml = 'Like what you see? Visit the ' +\n",
              "            '<a target=\"_blank\" href=https://colab.research.google.com/notebooks/data_table.ipynb>data table notebook</a>'\n",
              "            + ' to learn more about interactive tables.';\n",
              "          element.innerHTML = '';\n",
              "          dataTable['output_type'] = 'display_data';\n",
              "          await google.colab.output.renderOutput(dataTable, element);\n",
              "          const docLink = document.createElement('div');\n",
              "          docLink.innerHTML = docLinkHtml;\n",
              "          element.appendChild(docLink);\n",
              "        }\n",
              "      </script>\n",
              "    </div>\n",
              "  </div>\n",
              "  "
            ]
          },
          "metadata": {},
          "execution_count": 9
        }
      ],
      "source": [
        "shot_df = pd.concat(\n",
        "    pd.DataFrame(shot, columns=shot_data['resultSets'][0]['headers'])\n",
        "    for shot in [shot_data['resultSets'][0]['rowSet']]\n",
        ")\n",
        "#shot_df.head(10)\n",
        "\n",
        "shot_df = shot_df[shot_df.GAME_DATE=='20130227']\n",
        "\n",
        "print('There are %d shots by this player.\\n' % len(shot_df))\n",
        "shot_df.head()"
      ]
    },
    {
      "cell_type": "markdown",
      "id": "a0f14c4f-d280-4efd-82f0-6f106c864b64",
      "metadata": {
        "id": "a0f14c4f-d280-4efd-82f0-6f106c864b64"
      },
      "source": [
        "### You now have the API game ID."
      ]
    },
    {
      "cell_type": "code",
      "execution_count": null,
      "id": "549dd4ac-925f-4f5d-9a65-aaff593c971d",
      "metadata": {
        "id": "549dd4ac-925f-4f5d-9a65-aaff593c971d",
        "colab": {
          "base_uri": "https://localhost:8080/",
          "height": 491
        },
        "outputId": "0f36215e-ccf9-42e1-8163-a4f2e651b571"
      },
      "outputs": [
        {
          "output_type": "stream",
          "name": "stdout",
          "text": [
            "28\n"
          ]
        },
        {
          "output_type": "execute_result",
          "data": {
            "text/plain": [
              "           GRID_TYPE     GAME_ID  GAME_EVENT_ID  PLAYER_ID    PLAYER_NAME  \\\n",
              "0  Shot Chart Detail  0021200853              9     201939  Stephen Curry   \n",
              "1  Shot Chart Detail  0021200853             24     201939  Stephen Curry   \n",
              "2  Shot Chart Detail  0021200853             30     201939  Stephen Curry   \n",
              "3  Shot Chart Detail  0021200853             89     201939  Stephen Curry   \n",
              "4  Shot Chart Detail  0021200853             95     201939  Stephen Curry   \n",
              "\n",
              "      TEAM_ID              TEAM_NAME  PERIOD  MINUTES_REMAINING  \\\n",
              "0  1610612744  Golden State Warriors       1                 11   \n",
              "1  1610612744  Golden State Warriors       1                 10   \n",
              "2  1610612744  Golden State Warriors       1                  9   \n",
              "3  1610612744  Golden State Warriors       1                  3   \n",
              "4  1610612744  Golden State Warriors       1                  2   \n",
              "\n",
              "   SECONDS_REMAINING  ...        SHOT_ZONE_AREA  SHOT_ZONE_RANGE  \\\n",
              "0                  9  ...  Left Side Center(LC)          24+ ft.   \n",
              "1                  7  ...             Center(C)         8-16 ft.   \n",
              "2                  5  ...         Right Side(R)        16-24 ft.   \n",
              "3                 41  ...             Center(C)  Less Than 8 ft.   \n",
              "4                 34  ...         Right Side(R)         8-16 ft.   \n",
              "\n",
              "  SHOT_DISTANCE LOC_X LOC_Y SHOT_ATTEMPTED_FLAG  SHOT_MADE_FLAG  GAME_DATE  \\\n",
              "0            24  -183   164                   1               0   20130227   \n",
              "1            11    -2   115                   1               1   20130227   \n",
              "2            17   174    14                   1               0   20130227   \n",
              "3             3    12    31                   1               1   20130227   \n",
              "4            15   152     1                   1               0   20130227   \n",
              "\n",
              "   HTM  VTM  \n",
              "0  NYK  GSW  \n",
              "1  NYK  GSW  \n",
              "2  NYK  GSW  \n",
              "3  NYK  GSW  \n",
              "4  NYK  GSW  \n",
              "\n",
              "[5 rows x 24 columns]"
            ],
            "text/html": [
              "\n",
              "  <div id=\"df-0d0cbcbc-f5e9-4fec-81ef-417501ffc85f\">\n",
              "    <div class=\"colab-df-container\">\n",
              "      <div>\n",
              "<style scoped>\n",
              "    .dataframe tbody tr th:only-of-type {\n",
              "        vertical-align: middle;\n",
              "    }\n",
              "\n",
              "    .dataframe tbody tr th {\n",
              "        vertical-align: top;\n",
              "    }\n",
              "\n",
              "    .dataframe thead th {\n",
              "        text-align: right;\n",
              "    }\n",
              "</style>\n",
              "<table border=\"1\" class=\"dataframe\">\n",
              "  <thead>\n",
              "    <tr style=\"text-align: right;\">\n",
              "      <th></th>\n",
              "      <th>GRID_TYPE</th>\n",
              "      <th>GAME_ID</th>\n",
              "      <th>GAME_EVENT_ID</th>\n",
              "      <th>PLAYER_ID</th>\n",
              "      <th>PLAYER_NAME</th>\n",
              "      <th>TEAM_ID</th>\n",
              "      <th>TEAM_NAME</th>\n",
              "      <th>PERIOD</th>\n",
              "      <th>MINUTES_REMAINING</th>\n",
              "      <th>SECONDS_REMAINING</th>\n",
              "      <th>...</th>\n",
              "      <th>SHOT_ZONE_AREA</th>\n",
              "      <th>SHOT_ZONE_RANGE</th>\n",
              "      <th>SHOT_DISTANCE</th>\n",
              "      <th>LOC_X</th>\n",
              "      <th>LOC_Y</th>\n",
              "      <th>SHOT_ATTEMPTED_FLAG</th>\n",
              "      <th>SHOT_MADE_FLAG</th>\n",
              "      <th>GAME_DATE</th>\n",
              "      <th>HTM</th>\n",
              "      <th>VTM</th>\n",
              "    </tr>\n",
              "  </thead>\n",
              "  <tbody>\n",
              "    <tr>\n",
              "      <th>0</th>\n",
              "      <td>Shot Chart Detail</td>\n",
              "      <td>0021200853</td>\n",
              "      <td>9</td>\n",
              "      <td>201939</td>\n",
              "      <td>Stephen Curry</td>\n",
              "      <td>1610612744</td>\n",
              "      <td>Golden State Warriors</td>\n",
              "      <td>1</td>\n",
              "      <td>11</td>\n",
              "      <td>9</td>\n",
              "      <td>...</td>\n",
              "      <td>Left Side Center(LC)</td>\n",
              "      <td>24+ ft.</td>\n",
              "      <td>24</td>\n",
              "      <td>-183</td>\n",
              "      <td>164</td>\n",
              "      <td>1</td>\n",
              "      <td>0</td>\n",
              "      <td>20130227</td>\n",
              "      <td>NYK</td>\n",
              "      <td>GSW</td>\n",
              "    </tr>\n",
              "    <tr>\n",
              "      <th>1</th>\n",
              "      <td>Shot Chart Detail</td>\n",
              "      <td>0021200853</td>\n",
              "      <td>24</td>\n",
              "      <td>201939</td>\n",
              "      <td>Stephen Curry</td>\n",
              "      <td>1610612744</td>\n",
              "      <td>Golden State Warriors</td>\n",
              "      <td>1</td>\n",
              "      <td>10</td>\n",
              "      <td>7</td>\n",
              "      <td>...</td>\n",
              "      <td>Center(C)</td>\n",
              "      <td>8-16 ft.</td>\n",
              "      <td>11</td>\n",
              "      <td>-2</td>\n",
              "      <td>115</td>\n",
              "      <td>1</td>\n",
              "      <td>1</td>\n",
              "      <td>20130227</td>\n",
              "      <td>NYK</td>\n",
              "      <td>GSW</td>\n",
              "    </tr>\n",
              "    <tr>\n",
              "      <th>2</th>\n",
              "      <td>Shot Chart Detail</td>\n",
              "      <td>0021200853</td>\n",
              "      <td>30</td>\n",
              "      <td>201939</td>\n",
              "      <td>Stephen Curry</td>\n",
              "      <td>1610612744</td>\n",
              "      <td>Golden State Warriors</td>\n",
              "      <td>1</td>\n",
              "      <td>9</td>\n",
              "      <td>5</td>\n",
              "      <td>...</td>\n",
              "      <td>Right Side(R)</td>\n",
              "      <td>16-24 ft.</td>\n",
              "      <td>17</td>\n",
              "      <td>174</td>\n",
              "      <td>14</td>\n",
              "      <td>1</td>\n",
              "      <td>0</td>\n",
              "      <td>20130227</td>\n",
              "      <td>NYK</td>\n",
              "      <td>GSW</td>\n",
              "    </tr>\n",
              "    <tr>\n",
              "      <th>3</th>\n",
              "      <td>Shot Chart Detail</td>\n",
              "      <td>0021200853</td>\n",
              "      <td>89</td>\n",
              "      <td>201939</td>\n",
              "      <td>Stephen Curry</td>\n",
              "      <td>1610612744</td>\n",
              "      <td>Golden State Warriors</td>\n",
              "      <td>1</td>\n",
              "      <td>3</td>\n",
              "      <td>41</td>\n",
              "      <td>...</td>\n",
              "      <td>Center(C)</td>\n",
              "      <td>Less Than 8 ft.</td>\n",
              "      <td>3</td>\n",
              "      <td>12</td>\n",
              "      <td>31</td>\n",
              "      <td>1</td>\n",
              "      <td>1</td>\n",
              "      <td>20130227</td>\n",
              "      <td>NYK</td>\n",
              "      <td>GSW</td>\n",
              "    </tr>\n",
              "    <tr>\n",
              "      <th>4</th>\n",
              "      <td>Shot Chart Detail</td>\n",
              "      <td>0021200853</td>\n",
              "      <td>95</td>\n",
              "      <td>201939</td>\n",
              "      <td>Stephen Curry</td>\n",
              "      <td>1610612744</td>\n",
              "      <td>Golden State Warriors</td>\n",
              "      <td>1</td>\n",
              "      <td>2</td>\n",
              "      <td>34</td>\n",
              "      <td>...</td>\n",
              "      <td>Right Side(R)</td>\n",
              "      <td>8-16 ft.</td>\n",
              "      <td>15</td>\n",
              "      <td>152</td>\n",
              "      <td>1</td>\n",
              "      <td>1</td>\n",
              "      <td>0</td>\n",
              "      <td>20130227</td>\n",
              "      <td>NYK</td>\n",
              "      <td>GSW</td>\n",
              "    </tr>\n",
              "  </tbody>\n",
              "</table>\n",
              "<p>5 rows × 24 columns</p>\n",
              "</div>\n",
              "      <button class=\"colab-df-convert\" onclick=\"convertToInteractive('df-0d0cbcbc-f5e9-4fec-81ef-417501ffc85f')\"\n",
              "              title=\"Convert this dataframe to an interactive table.\"\n",
              "              style=\"display:none;\">\n",
              "        \n",
              "  <svg xmlns=\"http://www.w3.org/2000/svg\" height=\"24px\"viewBox=\"0 0 24 24\"\n",
              "       width=\"24px\">\n",
              "    <path d=\"M0 0h24v24H0V0z\" fill=\"none\"/>\n",
              "    <path d=\"M18.56 5.44l.94 2.06.94-2.06 2.06-.94-2.06-.94-.94-2.06-.94 2.06-2.06.94zm-11 1L8.5 8.5l.94-2.06 2.06-.94-2.06-.94L8.5 2.5l-.94 2.06-2.06.94zm10 10l.94 2.06.94-2.06 2.06-.94-2.06-.94-.94-2.06-.94 2.06-2.06.94z\"/><path d=\"M17.41 7.96l-1.37-1.37c-.4-.4-.92-.59-1.43-.59-.52 0-1.04.2-1.43.59L10.3 9.45l-7.72 7.72c-.78.78-.78 2.05 0 2.83L4 21.41c.39.39.9.59 1.41.59.51 0 1.02-.2 1.41-.59l7.78-7.78 2.81-2.81c.8-.78.8-2.07 0-2.86zM5.41 20L4 18.59l7.72-7.72 1.47 1.35L5.41 20z\"/>\n",
              "  </svg>\n",
              "      </button>\n",
              "      \n",
              "  <style>\n",
              "    .colab-df-container {\n",
              "      display:flex;\n",
              "      flex-wrap:wrap;\n",
              "      gap: 12px;\n",
              "    }\n",
              "\n",
              "    .colab-df-convert {\n",
              "      background-color: #E8F0FE;\n",
              "      border: none;\n",
              "      border-radius: 50%;\n",
              "      cursor: pointer;\n",
              "      display: none;\n",
              "      fill: #1967D2;\n",
              "      height: 32px;\n",
              "      padding: 0 0 0 0;\n",
              "      width: 32px;\n",
              "    }\n",
              "\n",
              "    .colab-df-convert:hover {\n",
              "      background-color: #E2EBFA;\n",
              "      box-shadow: 0px 1px 2px rgba(60, 64, 67, 0.3), 0px 1px 3px 1px rgba(60, 64, 67, 0.15);\n",
              "      fill: #174EA6;\n",
              "    }\n",
              "\n",
              "    [theme=dark] .colab-df-convert {\n",
              "      background-color: #3B4455;\n",
              "      fill: #D2E3FC;\n",
              "    }\n",
              "\n",
              "    [theme=dark] .colab-df-convert:hover {\n",
              "      background-color: #434B5C;\n",
              "      box-shadow: 0px 1px 3px 1px rgba(0, 0, 0, 0.15);\n",
              "      filter: drop-shadow(0px 1px 2px rgba(0, 0, 0, 0.3));\n",
              "      fill: #FFFFFF;\n",
              "    }\n",
              "  </style>\n",
              "\n",
              "      <script>\n",
              "        const buttonEl =\n",
              "          document.querySelector('#df-0d0cbcbc-f5e9-4fec-81ef-417501ffc85f button.colab-df-convert');\n",
              "        buttonEl.style.display =\n",
              "          google.colab.kernel.accessAllowed ? 'block' : 'none';\n",
              "\n",
              "        async function convertToInteractive(key) {\n",
              "          const element = document.querySelector('#df-0d0cbcbc-f5e9-4fec-81ef-417501ffc85f');\n",
              "          const dataTable =\n",
              "            await google.colab.kernel.invokeFunction('convertToInteractive',\n",
              "                                                     [key], {});\n",
              "          if (!dataTable) return;\n",
              "\n",
              "          const docLinkHtml = 'Like what you see? Visit the ' +\n",
              "            '<a target=\"_blank\" href=https://colab.research.google.com/notebooks/data_table.ipynb>data table notebook</a>'\n",
              "            + ' to learn more about interactive tables.';\n",
              "          element.innerHTML = '';\n",
              "          dataTable['output_type'] = 'display_data';\n",
              "          await google.colab.output.renderOutput(dataTable, element);\n",
              "          const docLink = document.createElement('div');\n",
              "          docLink.innerHTML = docLinkHtml;\n",
              "          element.appendChild(docLink);\n",
              "        }\n",
              "      </script>\n",
              "    </div>\n",
              "  </div>\n",
              "  "
            ]
          },
          "metadata": {},
          "execution_count": 10
        }
      ],
      "source": [
        "game_json = shotchartdetail.ShotChartDetail(\n",
        "            team_id = get_team_id('Golden State Warriors'),\n",
        "            player_id = get_player_id('Stephen', 'Curry'),\n",
        "            context_measure_simple = 'FGA',\n",
        "            game_id_nullable='0021200853')\n",
        "\n",
        "game_data = json.loads(game_json.get_json())\n",
        "\n",
        "# Make into a dataframe\n",
        "game_df = pd.concat(\n",
        "    pd.DataFrame(shot, columns=game_data['resultSets'][0]['headers'])\n",
        "    for shot in [game_data['resultSets'][0]['rowSet']]\n",
        ")\n",
        "print(len(game_df))\n",
        "game_df.head()"
      ]
    },
    {
      "cell_type": "markdown",
      "id": "3e18f4d5-2bc0-42e4-9c8f-ea880df9fab9",
      "metadata": {
        "id": "3e18f4d5-2bc0-42e4-9c8f-ea880df9fab9"
      },
      "source": [
        "### Pull the made and missed shots.\n",
        "\n",
        "In relation to our shot chart in this program, we need to flip x coordinate about the x-axis."
      ]
    },
    {
      "cell_type": "code",
      "execution_count": null,
      "id": "ed47e2f4-9745-44b3-89e7-202f7a113021",
      "metadata": {
        "id": "ed47e2f4-9745-44b3-89e7-202f7a113021"
      },
      "outputs": [],
      "source": [
        "game_df.loc[:]['LOC_X'] = -game_df.loc[:]['LOC_X']\n",
        "\n",
        "missedShots = game_df.loc[game_df['SHOT_MADE_FLAG'] == 0]\n",
        "madeShots = game_df.loc[game_df['SHOT_MADE_FLAG'] == 1]"
      ]
    },
    {
      "cell_type": "markdown",
      "id": "91e40687-e6bc-4e96-8c05-def068012aec",
      "metadata": {
        "id": "91e40687-e6bc-4e96-8c05-def068012aec"
      },
      "source": [
        "### Create function to draw the court"
      ]
    },
    {
      "cell_type": "code",
      "execution_count": null,
      "id": "eac1f8f9-075d-4c64-8641-4963d895587d",
      "metadata": {
        "id": "eac1f8f9-075d-4c64-8641-4963d895587d"
      },
      "outputs": [],
      "source": [
        "# Function to draw basketball court\n",
        "def create_court(ax, color):\n",
        "    # Short corner 3PT lines\n",
        "    ax.plot([-220, -220], [0, 140], linewidth=2, color=color)\n",
        "    ax.plot([220, 220], [0, 140], linewidth=2, color=color)\n",
        "\n",
        "    # 3PT Arc\n",
        "    ax.add_artist(mpl.patches.Arc((0, 140), 440, 315, theta1=0, theta2=180, facecolor='none', edgecolor=color, lw=2))\n",
        "\n",
        "    # Lane and Key\n",
        "    ax.plot([-80, -80], [0, 190], linewidth=2, color=color)\n",
        "    ax.plot([80, 80], [0, 190], linewidth=2, color=color)\n",
        "    ax.plot([-60, -60], [0, 190], linewidth=2, color=color)\n",
        "    ax.plot([60, 60], [0, 190], linewidth=2, color=color)\n",
        "    ax.plot([-80, 80], [190, 190], linewidth=2, color=color)\n",
        "    ax.add_artist(mpl.patches.Circle((0, 190), 60, facecolor='none', edgecolor=color, lw=2))\n",
        "\n",
        "    # Rim\n",
        "    ax.add_artist(mpl.patches.Circle((0, 60), 15, facecolor='none', edgecolor=color, lw=2))\n",
        "\n",
        "    # Backboard\n",
        "    ax.plot([-30, 30], [40, 40], linewidth=2, color=color)\n",
        "\n",
        "    # Remove ticks\n",
        "    ax.set_xticks([])\n",
        "    ax.set_yticks([])\n",
        "\n",
        "    # Set axis limits\n",
        "    ax.set_xlim(-250, 250)\n",
        "    ax.set_ylim(0, 470)"
      ]
    },
    {
      "cell_type": "markdown",
      "id": "1be053e5-9bcd-4c61-bc52-1538f99ccfee",
      "metadata": {
        "id": "1be053e5-9bcd-4c61-bc52-1538f99ccfee"
      },
      "source": [
        "### Create short chart"
      ]
    },
    {
      "cell_type": "code",
      "execution_count": null,
      "id": "3ece95bd-07c3-408e-a739-994d515dba83",
      "metadata": {
        "colab": {
          "base_uri": "https://localhost:8080/",
          "height": 638
        },
        "id": "3ece95bd-07c3-408e-a739-994d515dba83",
        "outputId": "bc669964-066f-48c2-b76c-a1f870da38ba"
      },
      "outputs": [
        {
          "output_type": "display_data",
          "data": {
            "text/plain": [
              "<Figure size 576x541.44 with 1 Axes>"
            ],
            "image/png": "[encoded data removed]"
          },
          "metadata": {}
        }
      ],
      "source": [
        "# General plot parameters\n",
        "#mpl.rcParams['font.family'] = 'Avenir'\n",
        "mpl.rcParams['font.size'] = 18\n",
        "mpl.rcParams['axes.linewidth'] = 2\n",
        "\n",
        "# Draw basketball court\n",
        "#fig = plt.figure(figsize=(4, 3.76))\n",
        "fig = plt.figure(figsize=(8, 7.52))\n",
        "ax = fig.add_axes([0, 0, 1, 1])\n",
        "\n",
        "# Plot shotchart\n",
        "plt.plot(missedShots['LOC_X'], missedShots['LOC_Y'] + 60,'rx',markersize=10)\n",
        "plt.plot(madeShots['LOC_X'], madeShots['LOC_Y'] + 60,'ko',markersize=10)\n",
        "\n",
        "ax = create_court(ax, 'black')\n",
        "# Annotate player name and season\n",
        "# fig.text(0, 1.05, 'Stephen Curry\\n2021-22 Playoffs Season', ha='left', va='baseline')\n",
        "\n",
        "#plt.savefig('curryShotchartPlayoffs.png',dpi=400,pad_inches=0,bbox_inches='tight')\n",
        "\n",
        "plt.show()"
      ]
    },
    {
      "cell_type": "markdown",
      "source": [
        "### Save the data to a CSV file for use in spreadsheets"
      ],
      "metadata": {
        "id": "fzN-kXdWFutw"
      },
      "id": "fzN-kXdWFutw"
    },
    {
      "cell_type": "code",
      "execution_count": null,
      "id": "1f016f8e-9090-410e-bfcf-907be0efa176",
      "metadata": {
        "id": "1f016f8e-9090-410e-bfcf-907be0efa176"
      },
      "outputs": [],
      "source": [
        "\n",
        "#curry_data.to_csv('curryShots.csv')"
      ]
    },
    {
      "cell_type": "code",
      "execution_count": null,
      "id": "3799e608-6aeb-464c-bd1e-b316d7c58091",
      "metadata": {
        "id": "3799e608-6aeb-464c-bd1e-b316d7c58091"
      },
      "outputs": [],
      "source": []
    }
  ],
  "metadata": {
    "kernelspec": {
      "display_name": "Python 3.8",
      "language": "python",
      "name": "python3"
    },
    "language_info": {
      "codemirror_mode": {
        "name": "ipython",
        "version": 3
      },
      "file_extension": ".py",
      "mimetype": "text/x-python",
      "name": "python",
      "nbconvert_exporter": "python",
      "pygments_lexer": "ipython3",
      "version": "3.8.6"
    },
    "colab": {
      "provenance": []
    }
  },
  "nbformat": 4,
  "nbformat_minor": 5
}