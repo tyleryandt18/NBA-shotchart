{
 "cells": [
  {
   "attachments": {},
   "cell_type": "markdown",
   "metadata": {},
   "source": [
    "# Analyzing a player's shot selection after going on a shooting streak."
   ]
  },
  {
   "cell_type": "code",
   "execution_count": 2,
   "metadata": {},
   "outputs": [],
   "source": [
    "# import packages\n",
    "from nba_api.stats.endpoints import shotchartdetail\n",
    "import json\n",
    "import requests\n",
    "import pandas as pd\n",
    "import matplotlib as mpl\n",
    "import matplotlib.pyplot as plt\n",
    "import numpy as np\n",
    "import math\n",
    "\n",
    "# Grab player and team ids\n",
    "# Load teams file\n",
    "teams = json.loads(requests.get('https://raw.githubusercontent.com/bttmly/nba/master/data/teams.json').text)\n",
    "# Load players file\n",
    "players = json.loads(requests.get('https://lifeislinear.davidson.edu/sports/player_dicts.json').text)"
   ]
  },
  {
   "attachments": {},
   "cell_type": "markdown",
   "metadata": {},
   "source": [
    "### ID helper functions"
   ]
  },
  {
   "cell_type": "code",
   "execution_count": 3,
   "metadata": {},
   "outputs": [],
   "source": [
    "# Get team ID based on team name\n",
    "def get_team_id(teamInput):\n",
    "    for team in teams:\n",
    "        if team['teamName'] == teamInput:\n",
    "            return team['teamId']\n",
    "    return -1\n",
    "# Get player ID based on player name\n",
    "def get_player_id(first, last):\n",
    "    for player in players:\n",
    "        if player['firstName'] == first and player['lastName'] == last:\n",
    "            return player['playerId']\n",
    "    return -1\n",
    "# Get Name based on player id\n",
    "def get_player_name(playerId):\n",
    "    for player in players:\n",
    "        if player['playerId']==playerId:\n",
    "            return player['firstName'], player['lastName']\n",
    "    return -1"
   ]
  },
  {
   "attachments": {},
   "cell_type": "markdown",
   "metadata": {},
   "source": [
    "### Shooting percentage helper functions."
   ]
  },
  {
   "cell_type": "code",
   "execution_count": 4,
   "metadata": {},
   "outputs": [],
   "source": [
    "# Shooting percentage in each zone\n",
    "def shooting_perc(group):\n",
    "    made = group['SHOT_MADE_FLAG'].sum()\n",
    "    attempted = group['SHOT_ATTEMPTED_FLAG'].sum()\n",
    "    return round((made / attempted) * 100, 2)\n",
    "\n",
    "# The percentage of total shots from each zone\n",
    "def shot_perc(group, total):\n",
    "    attempted = group['SHOT_ATTEMPTED_FLAG'].sum() # shots attempted in the zone\n",
    "    return round((attempted / total) * 100, 2)"
   ]
  },
  {
   "attachments": {},
   "cell_type": "markdown",
   "metadata": {},
   "source": [
    "### Shot streak helper functions."
   ]
  },
  {
   "cell_type": "code",
   "execution_count": 5,
   "metadata": {},
   "outputs": [],
   "source": [
    "def find_hh(data, hh_thresh, shot_type=-1):\n",
    "    # Data - the data frame to filter\n",
    "    # player_id - the player we are investigating\n",
    "    # hh_thresh - how many mae shots in a row to qualify for a \"hot hand\"\n",
    "\n",
    "    if shot_type == 2:\n",
    "        data = data[data[\"SHOT_TYPE\"] == \"2PT Field Goal\"]\n",
    "    elif shot_type == 3:\n",
    "        data = data[data[\"SHOT_TYPE\"] == \"3PT Field Goal\"]\n",
    "    \n",
    "    made_count = 0\n",
    "    for index, row in data.iterrows():\n",
    "        if row[\"SHOT_MADE_FLAG\"] == 1:\n",
    "            made_count += 1\n",
    "        else:\n",
    "            made_count = 0\n",
    "\n",
    "        if made_count < hh_thresh:\n",
    "            data.at[index, 'HOT_HAND'] = 0\n",
    "        else:\n",
    "            data.at[index, 'HOT_HAND'] = 1\n",
    "\n",
    "    return data\n",
    "\n",
    "def heat_check(data):\n",
    "    # A function to find the misses following a hot hand\n",
    "    \n",
    "    # index -1 was throwing errors, so to get the previous hot hand shots we will use shift\n",
    "    temp = data\n",
    "    temp['p_hh'] = data[\"HOT_HAND\"].shift(1).fillna(0)\n",
    "    data['HEAT_CHECK'] = ((data['SHOT_MADE_FLAG'] == 0) & (temp['p_hh'] == 1)).astype(int)\n",
    "    \n",
    "    return data"
   ]
  },
  {
   "attachments": {},
   "cell_type": "markdown",
   "metadata": {},
   "source": [
    "### Load the data"
   ]
  },
  {
   "cell_type": "code",
   "execution_count": 6,
   "metadata": {},
   "outputs": [],
   "source": [
    "# Create JSON request\n",
    "ahead_json = shotchartdetail.ShotChartDetail(\n",
    "            # team_id = get_team_id('Los Angeles Lakers'),\n",
    "            team_id = 0,\n",
    "            player_id = get_player_id('LeBron', 'James'),\n",
    "            context_measure_simple = 'FGA',\n",
    "            season_nullable = '2022-23',\n",
    "            season_type_all_star = ['Regular Season', 'Playoffs'],\n",
    "            ahead_behind_nullable = 'Ahead or Tied')\n",
    "\n",
    "# Load JSON data into dictionary\n",
    "ahead_data = json.loads(ahead_json.get_json())\n",
    "\n",
    "behind_json = shotchartdetail.ShotChartDetail(\n",
    "            # team_id = get_team_id('Los Angeles Lakers'),\n",
    "            team_id = 0,\n",
    "            player_id = get_player_id('LeBron', 'James'),\n",
    "            context_measure_simple = 'FGA',\n",
    "            season_nullable = '2022-23',\n",
    "            season_type_all_star = ['Regular Season', 'Playoffs'],\n",
    "            ahead_behind_nullable = 'Behind or Tied')\n",
    "\n",
    "behind_data = json.loads(behind_json.get_json())\n",
    "\n",
    "# Convert the data into a data frame.\n",
    "ahead_df = pd.concat(\n",
    "    pd.DataFrame(shot, columns=ahead_data['resultSets'][0]['headers'])\n",
    "    for shot in [ahead_data['resultSets'][0]['rowSet']]\n",
    ")\n",
    "behind_df = pd.concat(\n",
    "    pd.DataFrame(shot, columns=behind_data['resultSets'][0]['headers'])\n",
    "    for shot in [behind_data['resultSets'][0]['rowSet']]\n",
    ")"
   ]
  },
  {
   "attachments": {},
   "cell_type": "markdown",
   "metadata": {},
   "source": [
    "### Preparing the data helper function."
   ]
  },
  {
   "cell_type": "code",
   "execution_count": 7,
   "metadata": {},
   "outputs": [],
   "source": [
    "STREAK_THRESH = 2\n",
    "\n",
    "def prepare_data(df):\n",
    "    # Find the player's shooting percentage per zone.\n",
    "    df['ZONE_SPECIFIC'] = df['SHOT_ZONE_AREA'] + ' ' + df['SHOT_ZONE_RANGE']\n",
    "    shooting_zones = df.groupby('ZONE_SPECIFIC')\n",
    "    shooting_zones = shooting_zones.apply(shooting_perc)\n",
    "\n",
    "    # Find the shot attempts when a player is on a streak.\n",
    "    df = find_hh(df, STREAK_THRESH)\n",
    "    \n",
    "    # Find the player's misses after a streak. Then find the misses per zone.\n",
    "    df = heat_check(df)\n",
    "\n",
    "    # Keep only 3 point shots\n",
    "    df = df[df['SHOT_TYPE'] == '3PT Field Goal']\n",
    "    \n",
    "    heat_check_zones = df.groupby('ZONE_SPECIFIC').sum()['HEAT_CHECK']\n",
    "\n",
    "    # Convert the Series into data frames, merge, and then return the resulting analyis.\n",
    "    shooting_zones = pd.DataFrame(shooting_zones, columns=['SHOOTING_PERCENTAGE'])\n",
    "    heat_check_zones = pd.DataFrame(heat_check_zones)\n",
    "\n",
    "    # Do we need to find the percentage of total shots taken in each zone?\n",
    "\n",
    "    return pd.merge(shooting_zones, heat_check_zones, on='ZONE_SPECIFIC'), df\n",
    "\n"
   ]
  },
  {
   "attachments": {},
   "cell_type": "markdown",
   "metadata": {},
   "source": [
    "### Iterate over the top 3 point shooters over the past years."
   ]
  },
  {
   "cell_type": "code",
   "execution_count": 10,
   "metadata": {},
   "outputs": [
    {
     "name": "stdout",
     "output_type": "stream",
     "text": [
      "LeBron James\n",
      "Average shot distance (Not on a streak): 25.75925925925926\n",
      "Variance: 3.5161179698216736\n",
      "Average streak shot distance: 26.357142857142858\n",
      "Variance: 2.9438775510204076\n",
      "T-test result - t-statistic: -1.0653921530335424, p-value: 0.29058059260770525\n",
      "\n",
      "Stephen Curry\n",
      "Average shot distance (Not on a streak): 26.59433962264151\n",
      "Variance: 4.429779280882876\n",
      "Average streak shot distance: 27.11764705882353\n",
      "Variance: 5.280276816608996\n",
      "T-test result - t-statistic: -0.9316306024364879, p-value: 0.3533825963151669\n",
      "\n",
      "Kevin Durant\n",
      "Average shot distance (Not on a streak): 25.194444444444443\n",
      "Variance: 0.878858024691358\n",
      "Average streak shot distance: 25.0\n",
      "Variance: 0.2\n"
     ]
    },
    {
     "ename": "ValueError",
     "evalue": "data type <class 'numpy.object_'> not inexact",
     "output_type": "error",
     "traceback": [
      "\u001b[0;31m---------------------------------------------------------------------------\u001b[0m",
      "\u001b[0;31mValueError\u001b[0m                                Traceback (most recent call last)",
      "Cell \u001b[0;32mIn[10], line 75\u001b[0m\n\u001b[1;32m     72\u001b[0m \u001b[39mprint\u001b[39m(\u001b[39mf\u001b[39m\u001b[39m'\u001b[39m\u001b[39mVariance: \u001b[39m\u001b[39m{\u001b[39;00mhh_var\u001b[39m}\u001b[39;00m\u001b[39m'\u001b[39m)\n\u001b[1;32m     74\u001b[0m \u001b[39m# T Test for statistical significance\u001b[39;00m\n\u001b[0;32m---> 75\u001b[0m t_stat, p_val \u001b[39m=\u001b[39m ttest_ind(no_streak, hh_data)\n\u001b[1;32m     77\u001b[0m \u001b[39mprint\u001b[39m(\u001b[39mf\u001b[39m\u001b[39m\"\u001b[39m\u001b[39mT-test result - t-statistic: \u001b[39m\u001b[39m{\u001b[39;00mt_stat\u001b[39m}\u001b[39;00m\u001b[39m, p-value: \u001b[39m\u001b[39m{\u001b[39;00mp_val\u001b[39m}\u001b[39;00m\u001b[39m\"\u001b[39m)\n\u001b[1;32m     79\u001b[0m \u001b[39mprint\u001b[39m()\n",
      "File \u001b[0;32m/Library/Frameworks/Python.framework/Versions/3.11/lib/python3.11/site-packages/scipy/stats/_axis_nan_policy.py:531\u001b[0m, in \u001b[0;36m_axis_nan_policy_factory.<locals>.axis_nan_policy_decorator.<locals>.axis_nan_policy_wrapper\u001b[0;34m(***failed resolving arguments***)\u001b[0m\n\u001b[1;32m    529\u001b[0m \u001b[39mif\u001b[39;00m sentinel:\n\u001b[1;32m    530\u001b[0m     samples \u001b[39m=\u001b[39m _remove_sentinel(samples, paired, sentinel)\n\u001b[0;32m--> 531\u001b[0m res \u001b[39m=\u001b[39m hypotest_fun_out(\u001b[39m*\u001b[39;49msamples, \u001b[39m*\u001b[39;49m\u001b[39m*\u001b[39;49mkwds)\n\u001b[1;32m    532\u001b[0m res \u001b[39m=\u001b[39m result_to_tuple(res)\n\u001b[1;32m    533\u001b[0m res \u001b[39m=\u001b[39m _add_reduced_axes(res, reduced_axes, keepdims)\n",
      "File \u001b[0;32m/Library/Frameworks/Python.framework/Versions/3.11/lib/python3.11/site-packages/scipy/stats/_stats_py.py:7414\u001b[0m, in \u001b[0;36mttest_ind\u001b[0;34m(a, b, axis, equal_var, nan_policy, permutations, random_state, alternative, trim)\u001b[0m\n\u001b[1;32m   7412\u001b[0m     old_errstate \u001b[39m=\u001b[39m np\u001b[39m.\u001b[39mgeterr()\n\u001b[1;32m   7413\u001b[0m     np\u001b[39m.\u001b[39mseterr(divide\u001b[39m=\u001b[39m\u001b[39m'\u001b[39m\u001b[39mignore\u001b[39m\u001b[39m'\u001b[39m, invalid\u001b[39m=\u001b[39m\u001b[39m'\u001b[39m\u001b[39mignore\u001b[39m\u001b[39m'\u001b[39m)\n\u001b[0;32m-> 7414\u001b[0m v1 \u001b[39m=\u001b[39m _var(a, axis, ddof\u001b[39m=\u001b[39;49m\u001b[39m1\u001b[39;49m)\n\u001b[1;32m   7415\u001b[0m v2 \u001b[39m=\u001b[39m _var(b, axis, ddof\u001b[39m=\u001b[39m\u001b[39m1\u001b[39m)\n\u001b[1;32m   7416\u001b[0m \u001b[39mif\u001b[39;00m equal_var:\n",
      "File \u001b[0;32m/Library/Frameworks/Python.framework/Versions/3.11/lib/python3.11/site-packages/scipy/stats/_stats_py.py:1078\u001b[0m, in \u001b[0;36m_var\u001b[0;34m(x, axis, ddof, mean)\u001b[0m\n\u001b[1;32m   1076\u001b[0m \u001b[39mdef\u001b[39;00m \u001b[39m_var\u001b[39m(x, axis\u001b[39m=\u001b[39m\u001b[39m0\u001b[39m, ddof\u001b[39m=\u001b[39m\u001b[39m0\u001b[39m, mean\u001b[39m=\u001b[39m\u001b[39mNone\u001b[39;00m):\n\u001b[1;32m   1077\u001b[0m     \u001b[39m# Calculate variance of sample, warning if precision is lost\u001b[39;00m\n\u001b[0;32m-> 1078\u001b[0m     var \u001b[39m=\u001b[39m _moment(x, \u001b[39m2\u001b[39;49m, axis, mean\u001b[39m=\u001b[39;49mmean)\n\u001b[1;32m   1079\u001b[0m     \u001b[39mif\u001b[39;00m ddof \u001b[39m!=\u001b[39m \u001b[39m0\u001b[39m:\n\u001b[1;32m   1080\u001b[0m         n \u001b[39m=\u001b[39m x\u001b[39m.\u001b[39mshape[axis] \u001b[39mif\u001b[39;00m axis \u001b[39mis\u001b[39;00m \u001b[39mnot\u001b[39;00m \u001b[39mNone\u001b[39;00m \u001b[39melse\u001b[39;00m x\u001b[39m.\u001b[39msize\n",
      "File \u001b[0;32m/Library/Frameworks/Python.framework/Versions/3.11/lib/python3.11/site-packages/scipy/stats/_stats_py.py:1050\u001b[0m, in \u001b[0;36m_moment\u001b[0;34m(a, moment, axis, mean)\u001b[0m\n\u001b[1;32m   1046\u001b[0m mean \u001b[39m=\u001b[39m (a\u001b[39m.\u001b[39mmean(axis, keepdims\u001b[39m=\u001b[39m\u001b[39mTrue\u001b[39;00m) \u001b[39mif\u001b[39;00m mean \u001b[39mis\u001b[39;00m \u001b[39mNone\u001b[39;00m\n\u001b[1;32m   1047\u001b[0m         \u001b[39melse\u001b[39;00m np\u001b[39m.\u001b[39masarray(mean, dtype\u001b[39m=\u001b[39mdtype)[()])\n\u001b[1;32m   1048\u001b[0m a_zero_mean \u001b[39m=\u001b[39m a \u001b[39m-\u001b[39m mean\n\u001b[0;32m-> 1050\u001b[0m eps \u001b[39m=\u001b[39m np\u001b[39m.\u001b[39;49mfinfo(a_zero_mean\u001b[39m.\u001b[39;49mdtype)\u001b[39m.\u001b[39mresolution \u001b[39m*\u001b[39m \u001b[39m10\u001b[39m\n\u001b[1;32m   1051\u001b[0m \u001b[39mwith\u001b[39;00m np\u001b[39m.\u001b[39merrstate(divide\u001b[39m=\u001b[39m\u001b[39m'\u001b[39m\u001b[39mignore\u001b[39m\u001b[39m'\u001b[39m, invalid\u001b[39m=\u001b[39m\u001b[39m'\u001b[39m\u001b[39mignore\u001b[39m\u001b[39m'\u001b[39m):\n\u001b[1;32m   1052\u001b[0m     rel_diff \u001b[39m=\u001b[39m np\u001b[39m.\u001b[39mmax(np\u001b[39m.\u001b[39mabs(a_zero_mean), axis\u001b[39m=\u001b[39maxis,\n\u001b[1;32m   1053\u001b[0m                       keepdims\u001b[39m=\u001b[39m\u001b[39mTrue\u001b[39;00m) \u001b[39m/\u001b[39m np\u001b[39m.\u001b[39mabs(mean)\n",
      "File \u001b[0;32m/Library/Frameworks/Python.framework/Versions/3.11/lib/python3.11/site-packages/numpy/core/getlimits.py:492\u001b[0m, in \u001b[0;36mfinfo.__new__\u001b[0;34m(cls, dtype)\u001b[0m\n\u001b[1;32m    490\u001b[0m     dtype \u001b[39m=\u001b[39m newdtype\n\u001b[1;32m    491\u001b[0m \u001b[39mif\u001b[39;00m \u001b[39mnot\u001b[39;00m \u001b[39missubclass\u001b[39m(dtype, numeric\u001b[39m.\u001b[39minexact):\n\u001b[0;32m--> 492\u001b[0m     \u001b[39mraise\u001b[39;00m \u001b[39mValueError\u001b[39;00m(\u001b[39m\"\u001b[39m\u001b[39mdata type \u001b[39m\u001b[39m%r\u001b[39;00m\u001b[39m not inexact\u001b[39m\u001b[39m\"\u001b[39m \u001b[39m%\u001b[39m (dtype))\n\u001b[1;32m    493\u001b[0m obj \u001b[39m=\u001b[39m \u001b[39mcls\u001b[39m\u001b[39m.\u001b[39m_finfo_cache\u001b[39m.\u001b[39mget(dtype, \u001b[39mNone\u001b[39;00m)\n\u001b[1;32m    494\u001b[0m \u001b[39mif\u001b[39;00m obj \u001b[39mis\u001b[39;00m \u001b[39mnot\u001b[39;00m \u001b[39mNone\u001b[39;00m:\n",
      "\u001b[0;31mValueError\u001b[0m: data type <class 'numpy.object_'> not inexact"
     ]
    }
   ],
   "source": [
    "from scipy.stats import ttest_ind\n",
    "\n",
    "seasons = ['2023-24', '2022-23', '2021-22', '2020-21', '2019-20']\n",
    "poi = ['LeBron James', 'Stephen Curry', 'Kevin Durant', 'Jordan Poole', 'Klay Thompson',\n",
    "       'Damian Lillard', 'Trae Young', 'Jayson Tatum', 'Fred VanVleet', 'Zach LaVine']\n",
    "\n",
    "player_frames = {}\n",
    "\n",
    "for p_name in poi:\n",
    "    player_ahead = pd.DataFrame()\n",
    "    player_behind = pd.DataFrame()\n",
    "    p = p_name.split()\n",
    "    \n",
    "    for season in seasons:\n",
    "        ahead_json = shotchartdetail.ShotChartDetail(\n",
    "            # team_id = get_team_id('Los Angeles Lakers'),\n",
    "            team_id = 0,\n",
    "            player_id = get_player_id(p[0], p[1]),\n",
    "            context_measure_simple = 'FGA',\n",
    "            season_nullable = season,\n",
    "            season_type_all_star = ['Regular Season', 'Playoffs'],\n",
    "            ahead_behind_nullable = 'Ahead or Tied')\n",
    "\n",
    "        # Load JSON data into dictionary\n",
    "        ahead_data = json.loads(ahead_json.get_json())\n",
    "\n",
    "        behind_json = shotchartdetail.ShotChartDetail(\n",
    "                    # team_id = get_team_id('Los Angeles Lakers'),\n",
    "                    team_id = 0,\n",
    "                    player_id = get_player_id(p[0], p[1]),\n",
    "                    context_measure_simple = 'FGA',\n",
    "                    season_nullable = season,\n",
    "                    season_type_all_star = ['Regular Season', 'Playoffs'],\n",
    "                    ahead_behind_nullable = 'Behind or Tied')\n",
    "\n",
    "        behind_data = json.loads(behind_json.get_json())\n",
    "\n",
    "        # Convert the data into a data frame.\n",
    "        ahead_df = pd.concat(\n",
    "            pd.DataFrame(shot, columns=ahead_data['resultSets'][0]['headers'])\n",
    "            for shot in [ahead_data['resultSets'][0]['rowSet']]\n",
    "        )\n",
    "        behind_df = pd.concat(\n",
    "            pd.DataFrame(shot, columns=behind_data['resultSets'][0]['headers'])\n",
    "            for shot in [behind_data['resultSets'][0]['rowSet']]\n",
    "        )\n",
    "        player_ahead = pd.concat([player_ahead, ahead_df], ignore_index=True)\n",
    "        player_behind = pd.concat([player_behind, behind_df], ignore_index=True)\n",
    "\n",
    "    ahead_analysis, ahead_df = prepare_data(player_ahead)\n",
    "    behind_analysis, behind_df = prepare_data(player_behind)\n",
    "\n",
    "    player_analysis = pd.merge(ahead_analysis, behind_analysis, on='ZONE_SPECIFIC', suffixes=('_AHEAD', '_BEHIND'))\n",
    "    player_frames[p_name] = player_analysis\n",
    "\n",
    "    # Find the average shot distance, then the average shot distance from a hot hand streak\n",
    "    df = pd.merge(ahead_df, behind_df)\n",
    "    hh_data = df[(df['HOT_HAND'] == 1) | (df['HEAT_CHECK'] == 1)]['SHOT_DISTANCE']\n",
    "    hh_data = np.array(hh_data).astype(float)\n",
    "    no_streak = df[(df['HOT_HAND'] == 0) & df['HEAT_CHECK'] == 0]['SHOT_DISTANCE']\n",
    "    no_streak = np.array(no_streak).astype(float)\n",
    "\n",
    "    avg_dist = round(no_streak.mean(), 2)\n",
    "    hh_dist = round(hh_data.mean(), 2)\n",
    "\n",
    "    # variance calculations\n",
    "    no_streak_var = round(np.var(no_streak), 2)\n",
    "    hh_var = round(np.var(hh_data), 2)\n",
    "\n",
    "    print(p_name)\n",
    "    print(f'Average shot distance (Not on a streak): {avg_dist}')\n",
    "    print(f'Variance: {no_streak_var}')\n",
    "    print(f'Average streak shot distance: {hh_dist}')\n",
    "    print(f'Variance: {hh_var}')\n",
    "\n",
    "    # T Test for statistical significance\n",
    "    t_stat, p_val = ttest_ind(no_streak, hh_data)\n",
    "\n",
    "    print(f\"T-test result - t-statistic: {round(t_stat, 2)}, p-value: {round(p_val, 2)}\")\n",
    "    print()\n",
    "        "
   ]
  },
  {
   "cell_type": "code",
   "execution_count": null,
   "metadata": {},
   "outputs": [],
   "source": [
    "# Ttest "
   ]
  }
 ],
 "metadata": {
  "kernelspec": {
   "display_name": "Python 3",
   "language": "python",
   "name": "python3"
  },
  "language_info": {
   "codemirror_mode": {
    "name": "ipython",
    "version": 3
   },
   "file_extension": ".py",
   "mimetype": "text/x-python",
   "name": "python",
   "nbconvert_exporter": "python",
   "pygments_lexer": "ipython3",
   "version": "3.11.3"
  },
  "orig_nbformat": 4,
  "vscode": {
   "interpreter": {
    "hash": "aee8b7b246df8f9039afb4144a1f6fd8d2ca17a180786b69acc140d282b71a49"
   }
  }
 },
 "nbformat": 4,
 "nbformat_minor": 2
}
