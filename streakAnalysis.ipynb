{
 "cells": [
  {
   "attachments": {},
   "cell_type": "markdown",
   "metadata": {},
   "source": [
    "# Analyzing a player's shot selection after going on a shooting streak."
   ]
  },
  {
   "cell_type": "code",
   "execution_count": 27,
   "metadata": {},
   "outputs": [],
   "source": [
    "# import packages\n",
    "from nba_api.stats.endpoints import shotchartdetail\n",
    "import json\n",
    "import requests\n",
    "import pandas as pd\n",
    "import matplotlib as mpl\n",
    "import matplotlib.pyplot as plt\n",
    "import numpy as np\n",
    "import math\n",
    "\n",
    "# Grab player and team ids\n",
    "# Load teams file\n",
    "teams = json.loads(requests.get('https://raw.githubusercontent.com/bttmly/nba/master/data/teams.json').text)\n",
    "# Load players file\n",
    "players = json.loads(requests.get('https://lifeislinear.davidson.edu/sports/player_dicts.json').text)"
   ]
  },
  {
   "attachments": {},
   "cell_type": "markdown",
   "metadata": {},
   "source": [
    "### ID helper functions"
   ]
  },
  {
   "cell_type": "code",
   "execution_count": 2,
   "metadata": {},
   "outputs": [],
   "source": [
    "# Get team ID based on team name\n",
    "def get_team_id(teamInput):\n",
    "    for team in teams:\n",
    "        if team['teamName'] == teamInput:\n",
    "            return team['teamId']\n",
    "    return -1\n",
    "# Get player ID based on player name\n",
    "def get_player_id(first, last):\n",
    "    for player in players:\n",
    "        if player['firstName'] == first and player['lastName'] == last:\n",
    "            return player['playerId']\n",
    "    return -1\n",
    "# Get Name based on player id\n",
    "def get_player_name(playerId):\n",
    "    for player in players:\n",
    "        if player['playerId']==playerId:\n",
    "            return player['firstName'], player['lastName']\n",
    "    return -1"
   ]
  },
  {
   "attachments": {},
   "cell_type": "markdown",
   "metadata": {},
   "source": [
    "### Shooting percentage helper functions."
   ]
  },
  {
   "cell_type": "code",
   "execution_count": 3,
   "metadata": {},
   "outputs": [],
   "source": [
    "# Shooting percentage in each zone\n",
    "def shooting_perc(group):\n",
    "    made = group['SHOT_MADE_FLAG'].sum()\n",
    "    attempted = group['SHOT_ATTEMPTED_FLAG'].sum()\n",
    "    return round((made / attempted) * 100, 2)\n",
    "\n",
    "# The percentage of total shots from each zone\n",
    "def shot_perc(group, total):\n",
    "    attempted = group['SHOT_ATTEMPTED_FLAG'].sum() # shots attempted in the zone\n",
    "    return round((attempted / total) * 100, 2)"
   ]
  },
  {
   "attachments": {},
   "cell_type": "markdown",
   "metadata": {},
   "source": [
    "### Shot streak helper functions."
   ]
  },
  {
   "cell_type": "code",
   "execution_count": 4,
   "metadata": {},
   "outputs": [],
   "source": [
    "def find_hh(data, hh_thresh, shot_type=-1):\n",
    "    # Data - the data frame to filter\n",
    "    # player_id - the player we are investigating\n",
    "    # hh_thresh - how many mae shots in a row to qualify for a \"hot hand\"\n",
    "\n",
    "    if shot_type == 2:\n",
    "        data = data[data[\"SHOT_TYPE\"] == \"2PT Field Goal\"]\n",
    "    elif shot_type == 3:\n",
    "        data = data[data[\"SHOT_TYPE\"] == \"3PT Field Goal\"]\n",
    "    \n",
    "    made_count = 0\n",
    "    for index, row in data.iterrows():\n",
    "        if row[\"SHOT_MADE_FLAG\"] == 1:\n",
    "            made_count += 1\n",
    "        else:\n",
    "            made_count = 0\n",
    "\n",
    "        if made_count < hh_thresh:\n",
    "            data.at[index, 'HOT_HAND'] = 0\n",
    "        else:\n",
    "            data.at[index, 'HOT_HAND'] = 1\n",
    "\n",
    "    return data\n",
    "\n",
    "def heat_check(data):\n",
    "    # A function to find the misses following a hot hand\n",
    "    \n",
    "    # index -1 was throwing errors, so to get the previous hot hand shots we will use shift\n",
    "    temp = data\n",
    "    temp['p_hh'] = data[\"HOT_HAND\"].shift(1).fillna(0)\n",
    "    data['HEAT_CHECK'] = ((data['SHOT_MADE_FLAG'] == 0) & (temp['p_hh'] == 1)).astype(int)\n",
    "    \n",
    "    return data"
   ]
  },
  {
   "attachments": {},
   "cell_type": "markdown",
   "metadata": {},
   "source": [
    "### Load the data"
   ]
  },
  {
   "cell_type": "code",
   "execution_count": 5,
   "metadata": {},
   "outputs": [],
   "source": [
    "# Create JSON request\n",
    "ahead_json = shotchartdetail.ShotChartDetail(\n",
    "            # team_id = get_team_id('Los Angeles Lakers'),\n",
    "            team_id = 0,\n",
    "            player_id = get_player_id('LeBron', 'James'),\n",
    "            context_measure_simple = 'FGA',\n",
    "            season_nullable = '2022-23',\n",
    "            season_type_all_star = ['Regular Season', 'Playoffs'],\n",
    "            ahead_behind_nullable = 'Ahead or Tied')\n",
    "\n",
    "# Load JSON data into dictionary\n",
    "ahead_data = json.loads(ahead_json.get_json())\n",
    "\n",
    "behind_json = shotchartdetail.ShotChartDetail(\n",
    "            # team_id = get_team_id('Los Angeles Lakers'),\n",
    "            team_id = 0,\n",
    "            player_id = get_player_id('LeBron', 'James'),\n",
    "            context_measure_simple = 'FGA',\n",
    "            season_nullable = '2022-23',\n",
    "            season_type_all_star = ['Regular Season', 'Playoffs'],\n",
    "            ahead_behind_nullable = 'Behind or Tied')\n",
    "\n",
    "behind_data = json.loads(behind_json.get_json())\n",
    "\n",
    "# Convert the data into a data frame.\n",
    "ahead_df = pd.concat(\n",
    "    pd.DataFrame(shot, columns=ahead_data['resultSets'][0]['headers'])\n",
    "    for shot in [ahead_data['resultSets'][0]['rowSet']]\n",
    ")\n",
    "behind_df = pd.concat(\n",
    "    pd.DataFrame(shot, columns=behind_data['resultSets'][0]['headers'])\n",
    "    for shot in [behind_data['resultSets'][0]['rowSet']]\n",
    ")"
   ]
  },
  {
   "attachments": {},
   "cell_type": "markdown",
   "metadata": {},
   "source": [
    "### Preparing the data helper function."
   ]
  },
  {
   "cell_type": "code",
   "execution_count": 6,
   "metadata": {},
   "outputs": [],
   "source": [
    "STREAK_THRESH = 2\n",
    "\n",
    "def prepare_data(df):\n",
    "    # Find the player's shooting percentage per zone.\n",
    "    df['ZONE_SPECIFIC'] = df['SHOT_ZONE_AREA'] + ' ' + df['SHOT_ZONE_RANGE']\n",
    "    shooting_zones = df.groupby('ZONE_SPECIFIC')\n",
    "    shooting_zones = shooting_zones.apply(shooting_perc)\n",
    "\n",
    "    # Find the shot attempts when a player is on a streak.\n",
    "    df = find_hh(df, STREAK_THRESH)\n",
    "    \n",
    "    # Find the player's misses after a streak. Then find the misses per zone.\n",
    "    df = heat_check(df)\n",
    "\n",
    "    # Keep only 3 point shots\n",
    "    df = df[df['SHOT_TYPE'] == '3PT Field Goal']\n",
    "    \n",
    "    heat_check_zones = df.groupby('ZONE_SPECIFIC').sum()['HEAT_CHECK']\n",
    "\n",
    "    # Convert the Series into data frames, merge, and then return the resulting analyis.\n",
    "    shooting_zones = pd.DataFrame(shooting_zones, columns=['SHOOTING_PERCENTAGE'])\n",
    "    heat_check_zones = pd.DataFrame(heat_check_zones)\n",
    "\n",
    "    # Do we need to find the percentage of total shots taken in each zone?\n",
    "\n",
    "    return pd.merge(shooting_zones, heat_check_zones, on='ZONE_SPECIFIC'), df\n",
    "\n"
   ]
  },
  {
   "attachments": {},
   "cell_type": "markdown",
   "metadata": {},
   "source": [
    "### A function to find the exact distance of a shot. This function returns the avg. shot distance of a player, and then the shot distance after he goes on a streak."
   ]
  },
  {
   "cell_type": "code",
   "execution_count": 21,
   "metadata": {},
   "outputs": [],
   "source": [
    "def shot_distance(data):\n",
    "    hh_data = data[(data['HOT_HAND'] == 1) | (data['HEAT_CHECK'] == 1)]\n",
    "    no_streak = data[(data['HOT_HAND'] == 0) & data['HEAT_CHECK'] == 0]\n",
    "\n",
    "    return no_streak['SHOT_DISTANCE'].mean(), hh_data['SHOT_DISTANCE'].mean(), np.var(no_streak['SHOT_DISTANCE']), np.var(hh_data['SHOT_DISTANCE'])"
   ]
  },
  {
   "attachments": {},
   "cell_type": "markdown",
   "metadata": {},
   "source": [
    "### Iterate over the top 3 point shooters over the past years."
   ]
  },
  {
   "cell_type": "code",
   "execution_count": 28,
   "metadata": {},
   "outputs": [
    {
     "name": "stdout",
     "output_type": "stream",
     "text": [
      "LeBron James\n",
      "Average shot distance (Not on a streak): 25.88\n",
      "Variance: 4.16\n",
      "Average streak shot distance: 26.15\n",
      "Variance: 4.93\n",
      "\n",
      "Stephen Curry\n",
      "Average shot distance (Not on a streak): 26.64\n",
      "Variance: 11.23\n",
      "Average streak shot distance: 26.94\n",
      "Variance: 11.94\n",
      "\n",
      "Kevin Durant\n",
      "Average shot distance (Not on a streak): 25.24\n",
      "Variance: 1.87\n",
      "Average streak shot distance: 25.34\n",
      "Variance: 2.25\n",
      "\n",
      "Jordan Poole\n",
      "Average shot distance (Not on a streak): 26.32\n",
      "Variance: 11.71\n",
      "Average streak shot distance: 26.51\n",
      "Variance: 9.98\n",
      "\n",
      "Klay Thompson\n",
      "Average shot distance (Not on a streak): 25.47\n",
      "Variance: 5.2\n",
      "Average streak shot distance: 25.54\n",
      "Variance: 2.73\n",
      "\n",
      "Damian Lillard\n",
      "Average shot distance (Not on a streak): 27.08\n",
      "Variance: 12.64\n",
      "Average streak shot distance: 27.14\n",
      "Variance: 7.49\n",
      "\n",
      "Trae Young\n",
      "Average shot distance (Not on a streak): 27.2\n",
      "Variance: 11.46\n",
      "Average streak shot distance: 27.24\n",
      "Variance: 9.32\n",
      "\n",
      "Jayson Tatum\n",
      "Average shot distance (Not on a streak): 25.48\n",
      "Variance: 5.49\n",
      "Average streak shot distance: 25.48\n",
      "Variance: 2.37\n",
      "\n",
      "Fred VanVleet\n",
      "Average shot distance (Not on a streak): 26.05\n",
      "Variance: 14.07\n",
      "Average streak shot distance: 26.04\n",
      "Variance: 8.12\n",
      "\n",
      "Zach LaVine\n",
      "Average shot distance (Not on a streak): 25.37\n",
      "Variance: 4.91\n",
      "Average streak shot distance: 25.53\n",
      "Variance: 3.42\n",
      "\n"
     ]
    }
   ],
   "source": [
    "seasons = ['2023-24', '2022-23', '2021-22', '2020-21', '2019-20']\n",
    "poi = ['LeBron James', 'Stephen Curry', 'Kevin Durant', 'Jordan Poole', 'Klay Thompson',\n",
    "       'Damian Lillard', 'Trae Young', 'Jayson Tatum', 'Fred VanVleet', 'Zach LaVine']\n",
    "\n",
    "player_frames = {}\n",
    "\n",
    "for p_name in poi:\n",
    "    player_ahead = pd.DataFrame()\n",
    "    player_behind = pd.DataFrame()\n",
    "    p = p_name.split()\n",
    "    \n",
    "    for season in seasons:\n",
    "        ahead_json = shotchartdetail.ShotChartDetail(\n",
    "            # team_id = get_team_id('Los Angeles Lakers'),\n",
    "            team_id = 0,\n",
    "            player_id = get_player_id(p[0], p[1]),\n",
    "            context_measure_simple = 'FGA',\n",
    "            season_nullable = season,\n",
    "            season_type_all_star = ['Regular Season', 'Playoffs'],\n",
    "            ahead_behind_nullable = 'Ahead or Tied')\n",
    "\n",
    "        # Load JSON data into dictionary\n",
    "        ahead_data = json.loads(ahead_json.get_json())\n",
    "\n",
    "        behind_json = shotchartdetail.ShotChartDetail(\n",
    "                    # team_id = get_team_id('Los Angeles Lakers'),\n",
    "                    team_id = 0,\n",
    "                    player_id = get_player_id(p[0], p[1]),\n",
    "                    context_measure_simple = 'FGA',\n",
    "                    season_nullable = season,\n",
    "                    season_type_all_star = ['Regular Season', 'Playoffs'],\n",
    "                    ahead_behind_nullable = 'Behind or Tied')\n",
    "\n",
    "        behind_data = json.loads(behind_json.get_json())\n",
    "\n",
    "        # Convert the data into a data frame.\n",
    "        ahead_df = pd.concat(\n",
    "            pd.DataFrame(shot, columns=ahead_data['resultSets'][0]['headers'])\n",
    "            for shot in [ahead_data['resultSets'][0]['rowSet']]\n",
    "        )\n",
    "        behind_df = pd.concat(\n",
    "            pd.DataFrame(shot, columns=behind_data['resultSets'][0]['headers'])\n",
    "            for shot in [behind_data['resultSets'][0]['rowSet']]\n",
    "        )\n",
    "        player_ahead = pd.concat([player_ahead, ahead_df], ignore_index=True)\n",
    "        player_behind = pd.concat([player_behind, behind_df], ignore_index=True)\n",
    "\n",
    "    ahead_analysis, ahead_df = prepare_data(player_ahead)\n",
    "    behind_analysis, behind_df = prepare_data(player_behind)\n",
    "\n",
    "    player_analysis = pd.merge(ahead_analysis, behind_analysis, on='ZONE_SPECIFIC', suffixes=('_AHEAD', '_BEHIND'))\n",
    "    player_frames[p_name] = player_analysis\n",
    "\n",
    "    # Find the average shot distance, then the average shot distance from a hot hand streak\n",
    "    avg_shot_dist_a, hh_dist_a, no_streak_var_a, hh_var_a = shot_distance(ahead_df)\n",
    "    avg_shot_dist_b, hh_dist_b, no_streak_var_b, hh_var_b = shot_distance(behind_df)\n",
    "    avg_shot_dist = round((avg_shot_dist_a + avg_shot_dist_b) / 2, 2)\n",
    "    hh_dist = round((hh_dist_a + hh_dist_b) / 2, 2)\n",
    "    no_streak_var = round((no_streak_var_a + no_streak_var_b) / 2, 2)\n",
    "    hh_var = round((hh_var_a + hh_var_b) / 2, 2)\n",
    "\n",
    "\n",
    "    print(p_name)\n",
    "    print(f'Average shot distance (Not on a streak): {avg_shot_dist}')\n",
    "    print(f'Variance: {no_streak_var}')\n",
    "    print(f'Average streak shot distance: {hh_dist}')\n",
    "    print(f'Variance: {hh_var}')\n",
    "    \n",
    "    print()\n",
    "        "
   ]
  },
  {
   "cell_type": "code",
   "execution_count": null,
   "metadata": {},
   "outputs": [],
   "source": []
  }
 ],
 "metadata": {
  "kernelspec": {
   "display_name": "Python 3",
   "language": "python",
   "name": "python3"
  },
  "language_info": {
   "codemirror_mode": {
    "name": "ipython",
    "version": 3
   },
   "file_extension": ".py",
   "mimetype": "text/x-python",
   "name": "python",
   "nbconvert_exporter": "python",
   "pygments_lexer": "ipython3",
   "version": "3.11.3"
  },
  "orig_nbformat": 4,
  "vscode": {
   "interpreter": {
    "hash": "aee8b7b246df8f9039afb4144a1f6fd8d2ca17a180786b69acc140d282b71a49"
   }
  }
 },
 "nbformat": 4,
 "nbformat_minor": 2
}
